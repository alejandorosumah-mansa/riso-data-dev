{
 "cells": [
  {
   "cell_type": "code",
   "execution_count": 10,
   "metadata": {},
   "outputs": [],
   "source": [
    "import numpy as np\n",
    "from anyascii import anyascii\n",
    "import boto3\n",
    "import pandas as pd\n",
    "from io import StringIO\n",
    "\n",
    "\n",
    "class data_collection():\n",
    "   def __init__(self):\n",
    "      # Initialize a session using Amazon S3\n",
    "      \n",
    "\n",
    "      # Download the file from S3\n",
    "      self.bucket_name = 'riso-datalake'\n",
    "   def decode_csv(self,file_path):\n",
    "      file_key = file_path\n",
    "      csv_obj = self.client.get_object(Bucket=self.bucket_name, Key=file_key)\n",
    "      body = csv_obj['Body']\n",
    "      csv_string = body.read().decode('utf-8')\n",
    "      df = pd.read_csv(StringIO(csv_string))\n",
    "      return df"
   ]
  },
  {
   "cell_type": "code",
   "execution_count": 12,
   "metadata": {},
   "outputs": [
    {
     "ename": "UnicodeDecodeError",
     "evalue": "'utf-8' codec can't decode byte 0x9b in position 10: invalid start byte",
     "output_type": "error",
     "traceback": [
      "\u001b[1;31m---------------------------------------------------------------------------\u001b[0m",
      "\u001b[1;31mUnicodeDecodeError\u001b[0m                        Traceback (most recent call last)",
      "Cell \u001b[1;32mIn[12], line 2\u001b[0m\n\u001b[0;32m      1\u001b[0m data_collectionObject  \u001b[38;5;241m=\u001b[39mdata_collection()\n\u001b[1;32m----> 2\u001b[0m \u001b[43mdata_collectionObject\u001b[49m\u001b[38;5;241;43m.\u001b[39;49m\u001b[43mdecode_csv\u001b[49m\u001b[43m(\u001b[49m\u001b[38;5;124;43m\"\u001b[39;49m\u001b[38;5;124;43mEAA_2017_2022_T3_Superficie_Rendement_et_Production_agricoles.xlsx\u001b[39;49m\u001b[38;5;124;43m\"\u001b[39;49m\u001b[43m)\u001b[49m\n",
      "Cell \u001b[1;32mIn[10], line 19\u001b[0m, in \u001b[0;36mdata_collection.decode_csv\u001b[1;34m(self, file_path)\u001b[0m\n\u001b[0;32m     17\u001b[0m csv_obj \u001b[38;5;241m=\u001b[39m \u001b[38;5;28mself\u001b[39m\u001b[38;5;241m.\u001b[39mclient\u001b[38;5;241m.\u001b[39mget_object(Bucket\u001b[38;5;241m=\u001b[39m\u001b[38;5;28mself\u001b[39m\u001b[38;5;241m.\u001b[39mbucket_name, Key\u001b[38;5;241m=\u001b[39mfile_key)\n\u001b[0;32m     18\u001b[0m body \u001b[38;5;241m=\u001b[39m csv_obj[\u001b[38;5;124m'\u001b[39m\u001b[38;5;124mBody\u001b[39m\u001b[38;5;124m'\u001b[39m]\n\u001b[1;32m---> 19\u001b[0m csv_string \u001b[38;5;241m=\u001b[39m \u001b[43mbody\u001b[49m\u001b[38;5;241;43m.\u001b[39;49m\u001b[43mread\u001b[49m\u001b[43m(\u001b[49m\u001b[43m)\u001b[49m\u001b[38;5;241;43m.\u001b[39;49m\u001b[43mdecode\u001b[49m\u001b[43m(\u001b[49m\u001b[38;5;124;43m'\u001b[39;49m\u001b[38;5;124;43mutf-8\u001b[39;49m\u001b[38;5;124;43m'\u001b[39;49m\u001b[43m)\u001b[49m\n\u001b[0;32m     20\u001b[0m df \u001b[38;5;241m=\u001b[39m pd\u001b[38;5;241m.\u001b[39mread_csv(StringIO(csv_string))\n\u001b[0;32m     21\u001b[0m \u001b[38;5;28;01mreturn\u001b[39;00m df\n",
      "\u001b[1;31mUnicodeDecodeError\u001b[0m: 'utf-8' codec can't decode byte 0x9b in position 10: invalid start byte"
     ]
    }
   ],
   "source": [
    "data_collectionObject  =data_collection()\n",
    "data_collectionObject.decode_csv(\"EAA_2017_2022_T3_Superficie_Rendement_et_Production_agricoles.xlsx\")"
   ]
  },
  {
   "cell_type": "code",
   "execution_count": null,
   "metadata": {},
   "outputs": [],
   "source": []
  }
 ],
 "metadata": {
  "kernelspec": {
   "display_name": "Python 3",
   "language": "python",
   "name": "python3"
  },
  "language_info": {
   "codemirror_mode": {
    "name": "ipython",
    "version": 3
   },
   "file_extension": ".py",
   "mimetype": "text/x-python",
   "name": "python",
   "nbconvert_exporter": "python",
   "pygments_lexer": "ipython3",
   "version": "3.10.11"
  }
 },
 "nbformat": 4,
 "nbformat_minor": 2
}
